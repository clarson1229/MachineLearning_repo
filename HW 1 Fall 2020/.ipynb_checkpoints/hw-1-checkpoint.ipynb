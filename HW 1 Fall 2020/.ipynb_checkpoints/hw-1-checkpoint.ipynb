{
 "cells": [
  {
   "cell_type": "markdown",
   "metadata": {},
   "source": [
    "# K-Nearest Neighbors and Perceptron\n",
    "***\n",
    "**Name**: Connor Larson \n",
    "\n",
    "**Worked with**\n",
    "Joe Theis \n",
    "Rick Gentry\n",
    "Devin Burke\n",
    "***\n",
    "\n",
    "This assignment is due on Canvas by **5pm on Friday September 18th**. Submit only this Jupyter notebook to Canvas.  Do not compress it using tar, rar, zip, etc. Your solutions to analysis questions should be done in Markdown directly below the associated question.  Remember that you are encouraged to discuss the problems with your classmates and instructors, but **you must write all code and solutions on your own**, and list any people or sources consulted.\n"
   ]
  },
  {
   "cell_type": "markdown",
   "metadata": {},
   "source": [
    "## Overview \n",
    "***\n",
    "\n",
    "\n",
    "In this homework you'll implement prototype based k-nn and perceptron (with offset = 0) training algorithms using convergence method covered in the class.\n",
    "\n",
    "Most of this assignment will be done by calling libraries that are already implemented for you. You can use python loops to accomplish most of the implementation, but we would strongly encourage you to use vectorized operations using `numpy` package.\n",
    "\n",
    "Here are the rules: \n",
    "\n",
    "- Do **NOT** load or use any Python packages that are not available in Anaconda 3.6. \n",
    "- Some problems with code may be autograded.  If we provide a function or class API **do not** change it.\n",
    "- Do not change the location of the data or data directory.  Use only relative paths to access the data. "
   ]
  },
  {
   "cell_type": "markdown",
   "metadata": {},
   "source": [
    "### Linear Algebra - 10 points\n",
    "***\n",
    "Given matrix:\n",
    "\n",
    "$$\n",
    "\\begin{equation*}\n",
    "\\mathbf{A} = \\begin{bmatrix}2 & -1 & 0\\\\-1 & 2 & -1\\\\ 0 & -1 & 2\\end{bmatrix}\n",
    "\\end{equation*}\n",
    "$$\n",
    "\n",
    "Answer the following questions:\n",
    "\n",
    "**1.** Are the vectors $\\begin{equation*} \\mathbf{x} = \\begin{bmatrix}2\\\\-1\\\\0\\end{bmatrix}, \\mathbf{y} = \\begin{bmatrix}-1 \\\\ 2 \\\\ -1\\end{bmatrix}, \\mathbf{z} = \\begin{bmatrix}0 \\\\ -1 \\\\2\\end{bmatrix} \\end{equation*}$ linearly independent? Justify your answer"
   ]
  },
  {
   "cell_type": "markdown",
   "metadata": {},
   "source": [
    "yes - by setting the vectors = to 0 \n",
    "\n",
    "$\\begin{bmatrix}2 & -1 & 0\\\\-1 & 2 & -1\\\\ 0 & -1 & 2\\end{bmatrix} = \\begin{bmatrix}0 \\\\ 0\\\\0 \\end{bmatrix}$\n",
    "\n",
    "then reducing the matrix down to reduced row echelon form \n",
    "$\\begin{bmatrix}1 & 0 & 0\\\\0 & 1 & 0\\\\ 0 & 0 & 1\\end{bmatrix}= \\begin{bmatrix}0 \\\\ 0\\\\0 \\end{bmatrix}$\n",
    "\n",
    "you get the identity matrix proving that the 3 vectors are linearly independent "
   ]
  },
  {
   "cell_type": "markdown",
   "metadata": {},
   "source": [
    "**2.** Find the eigenvalues and the corresponding eigenvectors of $\\mathbf{A}$"
   ]
  },
  {
   "cell_type": "markdown",
   "metadata": {},
   "source": [
    "By using the equation Det(A-λ*I) = 0, and plugging in the A matrix we get \n",
    "$det(\\begin{bmatrix}2-λ & -1 & 0\\\\-1 & 2-λ & -1\\\\ 0 & -1 & 2-λ\\end{bmatrix})=0$\n",
    "\n",
    "I then find the determinat of that matrix set to 0 and solve for the values of λ\n",
    "\n",
    "$-λ^3+6λ^2-10λ+4 = 0 $\n",
    "\n",
    "$-(λ-2)(λ+(\\sqrt{2}-2))(λ-(\\sqrt{2}+2)) = 0$\n",
    "\n",
    "\n",
    "Finding the values for lambda those values are.\n",
    "\n",
    "$λ1 = 2 $\n",
    "\n",
    "$λ2 =-\\sqrt{2} + 2 $ \n",
    "\n",
    "$λ3 = \\sqrt{2}+ 2 $\n",
    "\n",
    "\n",
    "Then by plugging those values in to the (A-λ*I)*v and doing guassian elmination I get the 3 vectors \n",
    "\n",
    "$λ1 = 2 $\n",
    "\n",
    "$\\begin{bmatrix}0 & -1 & 0 & 0\\\\-1 & 0 & -1 & 0\\\\ 0 & -1 & 0 & 0\\end{bmatrix} \t\\rightarrow \\begin{bmatrix}1 & 0 & 1 & 0\\\\0 & 1 & 0 & 0\\\\ 0 & 0 & 0 & 0\\end{bmatrix}  $\n",
    "\n",
    "$ v1 = \\begin{bmatrix}-1 \\\\ 0 \\\\ 1\\end{bmatrix} $\n",
    "\n",
    "$λ2 =-\\sqrt{2} + 2 $ \n",
    "\n",
    "$\\begin{bmatrix}\\sqrt{2} & -1 & 0 & 0\\\\-1 & \\sqrt{2} & -1 & 0\\\\ 0 & -1 & \\sqrt{2} & 0\\end{bmatrix} \t\\rightarrow \\begin{bmatrix}1 & 0 & -1 & 0\\\\0 & 1 & -\\sqrt{2} & 0\\\\ 0 & 0 & 0 & 0\\end{bmatrix}  $\n",
    "\n",
    "$ v2 = \\begin{bmatrix}1 \\\\ \\sqrt{2} \\\\ 1 \\end{bmatrix} $\n",
    "\n",
    "$λ3 = \\sqrt{2}+ 2 $\n",
    "\n",
    "$\\begin{bmatrix}- \\sqrt{2} & -1 & 0 & 0\\\\-1 &- \\sqrt{2} & -1 & 0\\\\ 0 & -1 &- \\sqrt{2} & 0\\end{bmatrix} \t\\rightarrow \\begin{bmatrix}1 & 0 & -1 & 0\\\\0 & 1 & \\sqrt{2} & 0\\\\ 0 & 0 & 0 & 0\\end{bmatrix}  $\n",
    "\n",
    "$ v3 = \\begin{bmatrix}1 \\\\- \\sqrt{2} \\\\ 1 \\end{bmatrix} $\n",
    "\n"
   ]
  },
  {
   "cell_type": "markdown",
   "metadata": {},
   "source": [
    "**3.** Let $M$ be any matrix with real entries. $M$ is *positive semidefinite* if, for any vector $x$ with real components, the dot product of $Mx$ and $x$ is nonnegative, $\\langle Mx, x \\rangle \\geq 0$\n",
    "\n",
    "Let $B = \\begin{bmatrix}1 & 2\\\\-2 & 1\\end{bmatrix}$. Show that $B$ is positive semidefinite.(i.e., show that $\\langle Bx, x \\rangle \\geq 0$)"
   ]
  },
  {
   "cell_type": "markdown",
   "metadata": {},
   "source": [
    "$x = \\begin{bmatrix}x_1 \\\\ x_2\\end{bmatrix}$\n",
    "\n",
    "$x= \\begin{bmatrix}x_1 \\\\ x_2\\end{bmatrix} \\in  {\\rm I\\!R}$\n",
    "\n",
    "$ x^T Bx   = x^T \\begin{bmatrix}x_1+2x_2 \\\\-2x_1 + x_2\\end{bmatrix} = x_1^2 + 2x_2x_1 -2x_1x_2 + x_2^2  = x_1^2 + x_2^2 \\geq 0 $ \n",
    "\n",
    "This proof shows that becuase of the squares on each term that the dot product will always be greater than 0. "
   ]
  },
  {
   "cell_type": "markdown",
   "metadata": {},
   "source": [
    "**4.** A *symmetric* matrix $H$ is positive semidefinite if and only if the eigenvalues of $H$ are all non-negative. Is matrix $A$ positive semidefinite? Why?"
   ]
  },
  {
   "cell_type": "markdown",
   "metadata": {},
   "source": [
    "Yes it is postive semidefinite. Based on the eigen values we found in question 2 they are all postive and it is semtric so it is a postive semidefinite matrix.  "
   ]
  },
  {
   "cell_type": "markdown",
   "metadata": {},
   "source": [
    "### Prototype Based K-NN - 10 points\n",
    "***\n",
    "\n",
    "In this problem you'll implement a prototype based K-Nearest Neighbor framework to take an image of a handwritten digit and predict which digit it corresponds to.\n",
    "\n",
    "<br>\n",
    "\n",
    "![Samples of Handwritten Digits](wide_mnist.png \"MNIST Digits\")\n",
    "\n",
    "\n",
    "<br>"
   ]
  },
  {
   "cell_type": "code",
   "execution_count": 254,
   "metadata": {
    "ExecuteTime": {
     "end_time": "2018-08-31T21:21:54.811264Z",
     "start_time": "2018-08-31T21:21:54.431647Z"
    }
   },
   "outputs": [],
   "source": [
    "import numpy as np\n",
    "import matplotlib.pylab as plt\n",
    "%matplotlib inline"
   ]
  },
  {
   "cell_type": "markdown",
   "metadata": {},
   "source": [
    "The class below will load and store the MNIST data.  Load the data and then report: \n",
    "- The number of examples in the training set \n",
    "- The number of examples in the test set \n",
    "- The number of pixels in each image. \n",
    "- Plot the number of data points per class\n",
    "   "
   ]
  },
  {
   "cell_type": "code",
   "execution_count": 255,
   "metadata": {
    "ExecuteTime": {
     "end_time": "2018-08-31T22:52:03.734460Z",
     "start_time": "2018-08-31T22:52:03.725537Z"
    }
   },
   "outputs": [],
   "source": [
    "class Numbers:\n",
    "    \"\"\"\n",
    "    Class to store MNIST data\n",
    "    \"\"\"\n",
    "    def __init__(self, location):\n",
    "\n",
    "        import pickle, gzip\n",
    "\n",
    "        # load data from file \n",
    "        f = gzip.open(location, 'rb')\n",
    "        train_set, valid_set, test_set = pickle.load(f)\n",
    "        f.close()\n",
    "\n",
    "        # store for use later  \n",
    "        self.train_x, self.train_y = train_set\n",
    "        self.test_x, self.test_y = valid_set"
   ]
  },
  {
   "cell_type": "code",
   "execution_count": 256,
   "metadata": {
    "ExecuteTime": {
     "end_time": "2018-08-31T22:52:05.787320Z",
     "start_time": "2018-08-31T22:52:05.090173Z"
    }
   },
   "outputs": [
    {
     "name": "stdout",
     "output_type": "stream",
     "text": [
      "50000\n",
      "10000\n",
      "784\n"
     ]
    },
    {
     "data": {
      "image/png": "[encoded data removed]",
      "text/plain": [
       "<Figure size 432x288 with 1 Axes>"
      ]
     },
     "metadata": {
      "needs_background": "light"
     },
     "output_type": "display_data"
    }
   ],
   "source": [
    "\n",
    "DATA_PATH = \"data/mnist.pklz\"\n",
    "data = Numbers(DATA_PATH)\n",
    "# training length\n",
    "print(len(data.train_x))\n",
    "# test length \n",
    "print(len(data.test_x))\n",
    "# number of pixels per image \n",
    "print(len(data.train_x[0]))\n",
    "\n",
    "# ploting the data\n",
    "frequency_of_classes=[]\n",
    "class_numbers= []\n",
    "for x in range(0,10):\n",
    "    class_numbers.append(x)\n",
    "    frequency_of_classes.append(np.count_nonzero(data.train_y == x))\n",
    "# print(frequency_of_classes)\n",
    "# print(class_numbers)\n",
    "fig=plt.figure()\n",
    "ax=fig.add_axes([0,0,1,1])\n",
    "ax.plot(class_numbers, frequency_of_classes)\n",
    "ax.set_title(\"classes by number of points\")\n",
    "plt.show()\n"
   ]
  },
  {
   "cell_type": "markdown",
   "metadata": {},
   "source": [
    "The class below will perform K-Nearest Neighbor classification on our handwritten digit data. Your tasks are as follows:\n",
    "\n",
    "1. Modify `select_prototypes` method to select `p` random prototypes from training data which will be used for finding `k` nearest neighbors instead of all the training data points.\n",
    "1. Modify the `label_counts` function to return a dictionary of frequencies corresponding to each label in the training set.\n",
    "1. Modify the `majority` function so that it returns the _label_ that appears most frequently in the $K$-nearest neighbors of the query point.  In the case that the maximum frequency occurs for two or more labels, return the one that appears most frequently in the entire training set. In the case that there is still a tie, break the tie in any way that you choose.\n",
    "1. Modify the `confusion_matrix` function to classify examples and record the results in a confusion matrix. You should construct the confusion matrix on your own. Don't call any additional functions from sklearn to do it for you.\n",
    "1. Modify the `classify` function so that it finds the indices of the $K$ closest training examples to the query point and then calls the `majority` function to return the predicted label. Almost all of the heavy lifting here will be done by the `BallTree` object from sklearn.neighbors, so you'll want to start out by reading the [documentation](http://scikit-learn.org/stable/modules/generated/sklearn.neighbors.BallTree.html#sklearn.neighbors.BallTree.query)\n",
    "\n",
    "The class Knearest also implements an accuracy function which you will use in subsequent problems. You should not have to modify this function."
   ]
  },
  {
   "cell_type": "code",
   "execution_count": 258,
   "metadata": {},
   "outputs": [],
   "source": [
    "import random\n",
    "class Knearest:\n",
    "    \"\"\"\n",
    "    kNN classifier\n",
    "    \"\"\"\n",
    "\n",
    "    def __init__(self, X, y, k=5, p=10):\n",
    "        \"\"\"\n",
    "        Creates a kNN instance\n",
    "        \n",
    "        :param x: Training data input\n",
    "        :param y: Training data output\n",
    "        :param k: The number of nearest points to consider in classification\n",
    "        :param p: The number of prototypes to choose\n",
    "        \"\"\"\n",
    "        from sklearn.neighbors import BallTree\n",
    "        \n",
    "        self._p = p\n",
    "        self._x, self._y = self.select_prototype(X, y)\n",
    "        self._k = k\n",
    "        self._counts = self.label_counts(y)\n",
    "        self._kdtree = BallTree(self._x)\n",
    "            \n",
    "    def label_counts(self, y):\n",
    "        \"\"\"\n",
    "        Given the training prototypes, return a dictionary d where d[y] is  \n",
    "        the number of times that label y appears in the training prototypes.\n",
    "        \n",
    "        :param y: Training labels input\n",
    "        \"\"\"   \n",
    "        frequency_dict={}\n",
    "        for item in range(len(y)):\n",
    "            if y[item] in frequency_dict:\n",
    "                frequency_dict[y[item]]+=1\n",
    "            else:\n",
    "                frequency_dict[y[item]]=1\n",
    "    \n",
    "        return frequency_dict\n",
    "\n",
    "\n",
    "    def majority(self, neighbor_indices):\n",
    "        \"\"\"\n",
    "        Given the indices of training protypes, return the majority label. Break ties \n",
    "        by choosing the tied label that appears most often in the training prototypes. \n",
    "\n",
    "        :param neighbor_indices: The indices of the k nearest neighbors\n",
    "        \"\"\"\n",
    "        assert len(neighbor_indices) == self._k, \"Did not get k neighbor indices\"\n",
    "        frequency_dict={}\n",
    "\n",
    "        for index in neighbor_indices:\n",
    "            if self._y[index] in frequency_dict:\n",
    "                frequency_dict[self._y[index]]+=1\n",
    "            else:\n",
    "                frequency_dict[self._y[index]]=1\n",
    "                \n",
    "        max_frequency=0\n",
    "        classifier = 0\n",
    "        for item in frequency_dict:\n",
    "            if frequency_dict[item] > max_frequency:\n",
    "                max_frequency = frequency_dict[item]\n",
    "                classifier = item\n",
    "            elif (frequency_dict[item]) == max_frequency:\n",
    "                if self._counts[item] > self._counts[classifier]:\n",
    "                    max_frequency= frequency_dict[item]\n",
    "                    classifier = item \n",
    "# if the classifier frequency in the max variable is greater then there is no need to update max frequency \n",
    "# Design decision if they are equal in the _count frequency then keep the first max also not needing an update\n",
    "        return classifier\n",
    "    \n",
    "\n",
    "    def classify(self, example):\n",
    "        \"\"\"\n",
    "        Given an example, return the predicted label.\n",
    "\n",
    "        :param example: A representation of an example in the same\n",
    "        format as a row of the training data\n",
    "        \"\"\"\n",
    "        example = example.reshape(1,-1)\n",
    "        nearest_points = self._kdtree.query(example, self._k, False, False, False)\n",
    "        majority = self.majority(nearest_points[0])\n",
    "        return majority\n",
    "        \n",
    "        \n",
    "    def select_prototype(self, X, y):\n",
    "        \"\"\"\n",
    "        Given the train data, select p random prototypes from data for classification\n",
    "        calculation.\n",
    "        \n",
    "        :param x: Training data input\n",
    "        :param y: Training data output\n",
    "        \"\"\"\n",
    "        \n",
    "        indexes = np.random.choice(X.shape[0], self._p, replace=False)\n",
    "        return X[indexes], y[indexes]\n",
    "        \n",
    "        \n",
    "    def confusion_matrix(self, test_x, test_y):\n",
    "        \"\"\"\n",
    "        Given a matrix of test examples and labels, compute the confusion\n",
    "        matrix for the current classifier.  Should return a 2-dimensional\n",
    "        numpy array of ints, C, where C[ii,jj] is the number of times an \n",
    "        example with true label ii was labeled as jj.\n",
    "\n",
    "        :param test_x: test data \n",
    "        :param test_y: true test labels \n",
    "        \"\"\"\n",
    "        \n",
    "        C = np.zeros((10,10), dtype=int)\n",
    "        for xx, yy in zip(test_x, test_y):\n",
    "            predicted = self.classify(xx)\n",
    "            C[yy,predicted] +=1\n",
    "        return C \n",
    "            \n",
    "    @staticmethod\n",
    "    def accuracy(C):\n",
    "        \"\"\"\n",
    "        Given a confusion matrix C, compute the accuracy of the underlying classifier.\n",
    "        \n",
    "        :param C: a confusion matrix \n",
    "        \"\"\"\n",
    "        \n",
    "        return np.sum(C.diagonal()) / C.sum()"
   ]
  },
  {
   "cell_type": "code",
   "execution_count": 259,
   "metadata": {
    "ExecuteTime": {
     "end_time": "2018-09-04T06:37:10.241613Z",
     "start_time": "2018-09-04T06:37:10.198952Z"
    },
    "scrolled": true
   },
   "outputs": [
    {
     "name": "stderr",
     "output_type": "stream",
     "text": [
      "....\n",
      "----------------------------------------------------------------------\n",
      "Ran 4 tests in 0.005s\n",
      "\n",
      "OK\n"
     ]
    },
    {
     "data": {
      "text/plain": [
       "<unittest.runner.TextTestResult run=4 errors=0 failures=0>"
      ]
     },
     "execution_count": 259,
     "metadata": {},
     "output_type": "execute_result"
    }
   ],
   "source": [
    "import unittest\n",
    "\n",
    "class TestKnn(unittest.TestCase):\n",
    "    def setUp(self):\n",
    "        self.x = np.array([[2, 0], [4, 1], [6, 0], [1, 4], [2, 4], [2, 5], [4, 4], [0, 2], [3, 2], [4, 2], [5, 2], [5, 5]])\n",
    "        self.y = np.array([+1, +1, +1, +1, +1, +1, +1, -1, -1, -1, -1, -1])\n",
    "        self.knn = {}\n",
    "        for ii in [1, 2, 3]:\n",
    "            self.knn[ii] = Knearest(self.x, self.y, ii, len(self.x))\n",
    "\n",
    "        self.queries = np.array([[1, 5], [0, 3], [6, 4]])\n",
    "        \n",
    "    def test0(self):\n",
    "        \"\"\"\n",
    "        Test the label counter \n",
    "        \"\"\"\n",
    "        self.assertEqual(self.knn[1]._counts[-1], 5)\n",
    "        self.assertEqual(self.knn[1]._counts[1], 7)\n",
    "    \n",
    "    def test1(self):\n",
    "        \"\"\"\n",
    "        Test 1NN\n",
    "        \"\"\"\n",
    "        self.assertEqual(self.knn[1].classify(self.queries[0]),  1)\n",
    "        self.assertEqual(self.knn[1].classify(self.queries[1]), -1)\n",
    "        self.assertEqual(self.knn[1].classify(self.queries[2]), -1)\n",
    "\n",
    "    def test2(self):\n",
    "        \"\"\"\n",
    "        Test 2NN\n",
    "        \"\"\"\n",
    "        self.assertEqual(self.knn[2].classify(self.queries[0]),  1)\n",
    "        self.assertEqual(self.knn[2].classify(self.queries[1]),  1)\n",
    "        self.assertEqual(self.knn[2].classify(self.queries[2]),  1)\n",
    "\n",
    "    def test3(self):\n",
    "        \"\"\"\n",
    "        Test 3NN\n",
    "        \"\"\"\n",
    "        self.assertEqual(self.knn[3].classify(self.queries[0]),  1)\n",
    "        self.assertEqual(self.knn[3].classify(self.queries[1]),  1)\n",
    "        self.assertEqual(self.knn[3].classify(self.queries[2]), -1)\n",
    "        \n",
    "tests = TestKnn()\n",
    "tests_to_run = unittest.TestLoader().loadTestsFromModule(tests)\n",
    "unittest.TextTestRunner().run(tests_to_run)"
   ]
  },
  {
   "cell_type": "markdown",
   "metadata": {},
   "source": [
    "Now, you'll explore the performance of the classifier you've written.\n",
    "\n",
    "**Part A:** Explore the relationship between the number of training examples and accuracy on the test set. Comment on your findings and support your observations with some kind of plot."
   ]
  },
  {
   "cell_type": "code",
   "execution_count": 295,
   "metadata": {},
   "outputs": [
    {
     "name": "stdout",
     "output_type": "stream",
     "text": [
      "[43, 51, 47, 49, 49, 44]\n"
     ]
    },
    {
     "data": {
      "image/png": "[encoded data removed]",
      "text/plain": [
       "<Figure size 432x288 with 1 Axes>"
      ]
     },
     "metadata": {
      "needs_background": "light"
     },
     "output_type": "display_data"
    }
   ],
   "source": [
    "number_of_training_samples = [100,250,500,1000,2500,5000]\n",
    "accuracy  = []\n",
    "for x in number_of_training_samples:\n",
    "    indexes = np.random.choice(data.train_x.shape[0], x, replace=False)\n",
    "    new_training_x= data.train_x[indexes]\n",
    "    new_training_y= data.train_y[indexes]\n",
    "    model= Knearest(new_training_x, new_training_y, 3, 50)\n",
    "    correct_classifications=0\n",
    "    for k in range(100):\n",
    "        classification = model.classify(data.test_x[k])\n",
    "        if classification == data.test_y[k]:\n",
    "            correct_classifications +=1\n",
    "    accuracy.append(correct_classifications)\n",
    "print(accuracy)\n",
    "fig=plt.figure()\n",
    "ax=fig.add_axes([0,0,1,1])\n",
    "ax.plot(number_of_training_samples, accuracy)\n",
    "ax.set_title(\"Accuracy by number of training samples\")\n",
    "ax.set_xlabel(\"Number of Training samples\")\n",
    "ax.set_ylabel(\"Accuracy out of 100 test cases\")\n",
    "\n",
    "plt.show()"
   ]
  },
  {
   "cell_type": "markdown",
   "metadata": {},
   "source": [
    "**Part B**: Explore the relationship between the number of nearest neighbors and accuracy on the test set. Comment on your findings and support your observations with some kind of plot."
   ]
  },
  {
   "cell_type": "code",
   "execution_count": 278,
   "metadata": {},
   "outputs": [
    {
     "name": "stdout",
     "output_type": "stream",
     "text": [
      "[76, 67, 51, 44, 30, 27, 19]\n"
     ]
    },
    {
     "data": {
      "image/png": "[encoded data removed]",
      "text/plain": [
       "<Figure size 432x288 with 1 Axes>"
      ]
     },
     "metadata": {
      "needs_background": "light"
     },
     "output_type": "display_data"
    }
   ],
   "source": [
    "nearest_k = [1,3,5,10,25,50,75]\n",
    "accuracy  = []\n",
    "for x in nearest_k:\n",
    "    model= Knearest(data.train_x, data.train_y, x, 100)\n",
    "    correct_classifications=0\n",
    "    for k in range(100):\n",
    "        classification = model.classify(data.test_x[k])\n",
    "        if classification == data.test_y[k]:\n",
    "            correct_classifications +=1\n",
    "    accuracy.append(correct_classifications)\n",
    "\n",
    "print(accuracy)\n",
    "fig=plt.figure()\n",
    "ax=fig.add_axes([0,0,1,1])\n",
    "ax.plot(nearest_k, accuracy)\n",
    "ax.set_title(\"Accuracy by number of K neighbors\")\n",
    "ax.set_xlabel(\"Number of nearest Neighbors\")\n",
    "ax.set_ylabel(\"Accuracy out of 100 test cases\")\n",
    "\n",
    "plt.show()\n"
   ]
  },
  {
   "cell_type": "markdown",
   "metadata": {},
   "source": [
    "**Part C**: Which numbers get confused with each other the most easily?  Use the confusion_matrix function that you wrote above to support your conclusion.  Then use the `view_digit` function given below to plot a few examples of misclassified digits and discuss possible reasons for the misclassifications.  (Investigating misclassified examples is called **error analysis** and is an important step in the development of any classification technique).  "
   ]
  },
  {
   "cell_type": "code",
   "execution_count": 462,
   "metadata": {},
   "outputs": [
    {
     "data": {
      "text/plain": [
       "array([[ 974,    1,    1,    2,    0,    1,    7,    3,    0,    2],\n",
       "       [   0, 1059,    3,    0,    0,    0,    0,    2,    0,    0],\n",
       "       [  13,   32,  877,   17,    2,    0,    1,   34,    7,    7],\n",
       "       [   1,    8,    5,  948,    0,   32,    2,    9,   16,    9],\n",
       "       [   0,   33,    1,    0,  853,    0,    7,   13,    0,   76],\n",
       "       [   2,   16,    1,   50,    4,  799,   24,    6,    0,   13],\n",
       "       [   4,    4,    0,    0,    1,    3,  955,    0,    0,    0],\n",
       "       [   0,   34,    2,    1,    5,    0,    0, 1032,    0,   16],\n",
       "       [   7,   34,   12,   57,    2,   19,   10,   16,  822,   30],\n",
       "       [   4,   15,    0,   12,   24,    4,    0,   42,    0,  860]])"
      ]
     },
     "execution_count": 462,
     "metadata": {},
     "output_type": "execute_result"
    }
   ],
   "source": [
    "def view_digit(example, label=None):\n",
    "    if label: print(\"true label: {:d}\".format(label))\n",
    "    plt.imshow(example.reshape(28,28), cmap='gray');\n",
    "    \n",
    "\n",
    "model= Knearest(data.train_x, data.train_y, 3, 2500)\n",
    "indexes =[]\n",
    "for k in range(len(data.test_x)):\n",
    "    classification = model.classify(data.test_x[k])\n",
    "    if classification != data.test_y[k]:\n",
    "        indexes.append([k, classification, data.test_y[k]]) # this was done this way becuase it would only allow one picture at a time so I save\n",
    "                          # the indices for future use\n",
    "            \n",
    "model.confusion_matrix(data.test_x, data.test_y)"
   ]
  },
  {
   "cell_type": "code",
   "execution_count": 468,
   "metadata": {},
   "outputs": [
    {
     "name": "stdout",
     "output_type": "stream",
     "text": [
      "Accurracy=  0.9178999999999999 number of errors=  821\n",
      "[[5, 9, 4], [9, 9, 4], [14, 9, 4], [49, 1, 4], [71, 6, 5], [74, 1, 8], [88, 1, 9], [90, 9, 4], [109, 9, 4], [116, 2, 8], [133, 3, 8], [134, 9, 4], [162, 1, 7], [178, 1, 8], [180, 9, 8], [196, 1, 2], [212, 9, 3], [236, 1, 0], [239, 0, 9], [246, 1, 8], [256, 6, 0], [258, 3, 8], [272, 0, 8], [306, 5, 8], [308, 0, 3], [316, 1, 5], [317, 5, 3], [320, 7, 5], [329, 7, 9], [340, 2, 3], [342, 5, 8], [346, 1, 8], [349, 7, 9], [355, 1, 6], [359, 1, 7], [363, 1, 8], [368, 1, 2], [369, 9, 3], [370, 4, 7], [383, 3, 5], [391, 4, 9], [393, 1, 8], [399, 1, 5], [403, 9, 3], [410, 3, 8], [413, 1, 8], [414, 5, 9], [417, 8, 3], [426, 1, 7], [429, 1, 8], [431, 9, 3], [454, 8, 2], [470, 5, 3], [473, 7, 9], [500, 8, 3], [514, 3, 8], [564, 9, 4], [570, 3, 5], [572, 7, 1], [574, 6, 5], [583, 9, 4], [587, 9, 4], [605, 3, 7], [607, 3, 8], [618, 1, 6], [632, 7, 1], [639, 7, 8], [642, 1, 2], [650, 3, 5], [673, 9, 4], [676, 3, 2], [689, 0, 2], [699, 9, 4], [700, 7, 2], [702, 3, 8], [712, 9, 4], [714, 3, 8], [716, 7, 2], [718, 3, 5], [728, 5, 3], [737, 9, 4], [738, 5, 8], [740, 0, 8], [743, 1, 7], [753, 3, 2], [756, 7, 2], [757, 1, 4], [758, 4, 9], [768, 4, 5], [777, 9, 4], [782, 3, 5], [801, 1, 4], [802, 0, 2], [805, 1, 7], [814, 3, 2], [819, 9, 4], [821, 9, 8], [826, 0, 2], [835, 1, 4], [841, 9, 4], [886, 9, 8], [889, 9, 4], [896, 4, 9], [897, 1, 2], [904, 3, 5], [905, 1, 7], [908, 3, 9], [916, 6, 4], [917, 9, 4], [948, 9, 4], [957, 7, 4], [972, 1, 7], [981, 1, 4], [982, 5, 3], [1004, 1, 7], [1018, 9, 4], [1054, 7, 3], [1077, 9, 4], [1094, 5, 8], [1100, 1, 2], [1104, 3, 8], [1106, 5, 3], [1111, 9, 4], [1125, 9, 4], [1134, 5, 8], [1140, 7, 9], [1144, 3, 5], [1158, 6, 8], [1164, 9, 8], [1168, 7, 9], [1176, 9, 5], [1194, 3, 9], [1200, 1, 9], [1204, 9, 7], [1230, 1, 3], [1234, 9, 5], [1238, 1, 2], [1239, 7, 9], [1248, 4, 9], [1258, 3, 5], [1274, 5, 3], [1278, 3, 5], [1280, 1, 9], [1298, 1, 5], [1300, 1, 7], [1315, 1, 8], [1320, 1, 2], [1324, 3, 8], [1330, 3, 8], [1337, 1, 4], [1346, 9, 7], [1356, 1, 2], [1371, 6, 5], [1374, 9, 4], [1380, 3, 5], [1394, 3, 8], [1414, 7, 8], [1453, 9, 4], [1459, 9, 8], [1462, 5, 3], [1464, 3, 0], [1487, 3, 8], [1522, 7, 3], [1530, 1, 2], [1576, 0, 8], [1615, 3, 8], [1640, 7, 3], [1668, 3, 8], [1674, 9, 5], [1698, 7, 2], [1738, 3, 2], [1740, 7, 5], [1759, 9, 3], [1763, 5, 3], [1764, 2, 5], [1770, 7, 9], [1782, 0, 2], [1794, 9, 5], [1795, 6, 5], [1803, 1, 8], [1817, 1, 4], [1832, 1, 7], [1840, 1, 9], [1854, 3, 5], [1856, 1, 7], [1863, 4, 9], [1881, 3, 8], [1886, 3, 5], [1894, 9, 4], [1904, 3, 8], [1926, 9, 4], [1944, 9, 4], [1955, 6, 5], [1958, 1, 7], [1963, 6, 5], [1964, 7, 8], [1988, 1, 7], [2006, 0, 2], [2014, 7, 3], [2044, 3, 8], [2048, 6, 0], [2086, 9, 5], [2089, 1, 7], [2091, 7, 8], [2093, 4, 9], [2106, 0, 5], [2109, 9, 2], [2113, 1, 7], [2117, 4, 9], [2123, 7, 9], [2127, 4, 9], [2129, 5, 3], [2138, 1, 9], [2139, 4, 9], [2140, 7, 4], [2144, 7, 2], [2151, 7, 9], [2152, 7, 2], [2160, 5, 3], [2166, 9, 7], [2168, 5, 3], [2172, 7, 5], [2173, 1, 7], [2188, 1, 2], [2203, 7, 9], [2208, 8, 2], [2210, 4, 5], [2218, 6, 8], [2225, 4, 2], [2232, 3, 9], [2241, 9, 8], [2279, 1, 4], [2280, 9, 8], [2294, 6, 0], [2303, 5, 8], [2304, 7, 9], [2306, 2, 8], [2316, 1, 2], [2319, 4, 2], [2324, 7, 9], [2347, 3, 5], [2364, 9, 5], [2390, 3, 8], [2394, 5, 3], [2399, 1, 5], [2414, 9, 4], [2422, 1, 2], [2424, 9, 4], [2452, 6, 5], [2456, 1, 2], [2460, 1, 7], [2462, 3, 9], [2517, 9, 4], [2522, 9, 4], [2548, 1, 2], [2550, 7, 2], [2566, 7, 4], [2580, 9, 4], [2600, 9, 4], [2604, 9, 4], [2610, 1, 5], [2632, 1, 8], [2644, 1, 7], [2671, 6, 8], [2674, 0, 6], [2694, 1, 2], [2707, 9, 7], [2719, 1, 8], [2738, 2, 1], [2744, 1, 7], [2756, 9, 4], [2785, 6, 3], [2792, 3, 5], [2795, 7, 9], [2800, 1, 9], [2802, 1, 2], [2808, 2, 8], [2812, 7, 2], [2814, 3, 9], [2828, 7, 3], [2834, 1, 2], [2842, 1, 7], [2862, 3, 8], [2869, 7, 2], [2892, 6, 8], [2907, 8, 3], [2913, 3, 8], [2914, 7, 5], [2922, 9, 3], [2932, 3, 8], [2947, 6, 5], [2950, 6, 8], [2952, 1, 7], [2953, 9, 2], [2959, 7, 2], [2968, 7, 8], [2971, 7, 2], [2975, 9, 2], [2981, 6, 5], [3017, 9, 2], [3019, 7, 2], [3022, 4, 9], [3028, 3, 8], [3029, 7, 2], [3033, 7, 2], [3036, 7, 8], [3037, 9, 3], [3044, 3, 9], [3063, 6, 5], [3064, 2, 8], [3076, 7, 2], [3079, 3, 8], [3108, 5, 3], [3110, 3, 8], [3113, 9, 7], [3122, 6, 5], [3150, 3, 8], [3156, 2, 3], [3170, 3, 8], [3181, 9, 8], [3196, 1, 9], [3198, 5, 6], [3205, 1, 4], [3216, 0, 9], [3244, 9, 5], [3245, 0, 2], [3248, 9, 8], [3249, 1, 4], [3278, 1, 4], [3288, 9, 4], [3316, 3, 5], [3364, 9, 4], [3384, 9, 4], [3399, 6, 0], [3456, 7, 9], [3462, 9, 8], [3470, 1, 5], [3476, 7, 4], [3482, 1, 3], [3492, 9, 4], [3507, 9, 5], [3508, 6, 8], [3509, 6, 0], [3522, 0, 2], [3547, 7, 3], [3556, 3, 8], [3564, 1, 4], [3567, 3, 5], [3568, 3, 5], [3570, 1, 3], [3574, 6, 8], [3576, 9, 4], [3623, 7, 9], [3638, 3, 5], [3680, 7, 9], [3682, 7, 9], [3686, 7, 8], [3723, 7, 9], [3731, 9, 4], [3736, 1, 9], [3740, 5, 3], [3752, 7, 9], [3754, 5, 6], [3767, 7, 4], [3784, 7, 9], [3786, 3, 8], [3790, 1, 2], [3806, 9, 8], [3832, 1, 7], [3834, 9, 4], [3844, 3, 5], [3852, 9, 7], [3854, 5, 8], [3867, 9, 4], [3872, 3, 8], [3873, 9, 4], [3883, 9, 4], [3884, 3, 2], [3903, 8, 3], [3906, 2, 8], [3910, 1, 2], [3920, 3, 5], [3955, 9, 4], [3970, 5, 8], [3975, 5, 3], [3978, 6, 5], [3979, 3, 8], [3997, 3, 8], [3999, 0, 8], [4002, 3, 5], [4006, 3, 8], [4008, 8, 3], [4030, 7, 8], [4036, 1, 9], [4038, 4, 9], [4056, 3, 8], [4065, 2, 7], [4074, 5, 3], [4077, 5, 3], [4082, 3, 8], [4097, 9, 7], [4117, 3, 8], [4119, 7, 9], [4146, 7, 9], [4156, 9, 4], [4162, 9, 8], [4178, 7, 8], [4180, 3, 8], [4190, 1, 8], [4195, 3, 8], [4247, 9, 2], [4264, 1, 4], [4296, 8, 3], [4311, 4, 9], [4347, 9, 4], [4366, 3, 5], [4377, 8, 3], [4378, 1, 7], [4394, 1, 8], [4410, 9, 4], [4432, 3, 2], [4436, 1, 3], [4452, 1, 4], [4498, 9, 8], [4506, 2, 1], [4520, 5, 9], [4528, 3, 5], [4551, 8, 2], [4554, 1, 8], [4574, 6, 2], [4582, 9, 4], [4586, 1, 9], [4606, 4, 7], [4612, 2, 8], [4623, 9, 7], [4624, 5, 8], [4628, 1, 4], [4650, 9, 4], [4654, 5, 8], [4674, 8, 2], [4682, 3, 2], [4701, 7, 8], [4742, 9, 4], [4757, 3, 8], [4762, 7, 2], [4777, 7, 4], [4778, 6, 4], [4794, 1, 2], [4814, 6, 4], [4834, 1, 2], [4848, 1, 2], [4856, 7, 3], [4858, 5, 3], [4878, 9, 4], [4883, 1, 5], [4888, 5, 3], [4896, 7, 8], [4899, 1, 4], [4909, 1, 8], [4913, 1, 5], [4916, 9, 8], [4917, 1, 7], [4918, 9, 4], [4919, 1, 8], [4926, 4, 8], [4928, 7, 5], [4932, 6, 5], [4935, 6, 8], [4936, 9, 4], [4949, 1, 5], [4950, 7, 8], [4954, 2, 8], [4958, 9, 8], [4960, 6, 4], [4966, 9, 7], [4973, 3, 2], [4975, 1, 5], [4977, 2, 3], [4981, 7, 2], [4983, 5, 3], [4986, 3, 8], [5015, 6, 8], [5028, 5, 3], [5042, 3, 5], [5052, 1, 7], [5060, 3, 5], [5170, 8, 2], [5194, 2, 3], [5206, 6, 4], [5247, 7, 9], [5263, 2, 8], [5264, 1, 8], [5268, 3, 8], [5278, 2, 0], [5281, 1, 2], [5294, 7, 4], [5296, 1, 9], [5304, 1, 2], [5308, 3, 2], [5311, 9, 8], [5319, 1, 2], [5320, 6, 4], [5330, 5, 8], [5340, 1, 4], [5352, 7, 2], [5368, 1, 8], [5393, 8, 3], [5416, 9, 4], [5418, 7, 4], [5429, 0, 2], [5438, 9, 8], [5450, 9, 5], [5460, 3, 5], [5496, 0, 9], [5513, 3, 5], [5530, 1, 8], [5532, 9, 4], [5540, 8, 2], [5586, 9, 8], [5598, 9, 4], [5612, 3, 9], [5620, 1, 8], [5642, 4, 9], [5649, 8, 3], [5672, 3, 5], [5715, 8, 3], [5729, 3, 5], [5739, 3, 5], [5743, 5, 3], [5758, 1, 3], [5772, 3, 8], [5792, 3, 9], [5804, 4, 5], [5810, 6, 4], [5836, 7, 2], [5850, 4, 9], [5870, 2, 1], [5876, 5, 3], [5886, 6, 5], [5891, 1, 4], [5896, 9, 7], [5906, 3, 2], [5914, 1, 3], [5958, 3, 5], [5980, 3, 5], [6006, 1, 3], [6014, 3, 5], [6054, 9, 5], [6066, 1, 7], [6076, 1, 7], [6082, 1, 8], [6092, 4, 9], [6118, 7, 9], [6130, 0, 6], [6134, 1, 3], [6142, 7, 4], [6162, 1, 6], [6168, 7, 2], [6213, 0, 2], [6218, 1, 7], [6220, 9, 7], [6224, 3, 5], [6237, 7, 9], [6244, 1, 4], [6254, 9, 8], [6271, 1, 9], [6275, 9, 3], [6280, 9, 4], [6286, 3, 8], [6292, 1, 9], [6300, 4, 9], [6303, 1, 9], [6305, 8, 3], [6323, 7, 9], [6334, 9, 4], [6366, 4, 5], [6379, 1, 4], [6380, 1, 4], [6387, 9, 8], [6412, 1, 8], [6414, 7, 9], [6452, 1, 4], [6457, 9, 3], [6464, 3, 9], [6468, 1, 5], [6472, 1, 7], [6474, 5, 3], [6480, 7, 9], [6494, 1, 9], [6498, 9, 2], [6527, 4, 9], [6564, 9, 4], [6566, 6, 5], [6586, 6, 5], [6590, 1, 2], [6596, 9, 4], [6600, 1, 8], [6612, 7, 2], [6614, 0, 2], [6645, 6, 3], [6646, 7, 4], [6655, 7, 2], [6672, 1, 8], [6754, 5, 3], [6792, 7, 9], [6800, 3, 9], [6812, 3, 5], [6824, 7, 2], [6842, 1, 8], [6866, 2, 8], [6874, 7, 8], [6890, 3, 5], [6914, 7, 0], [6922, 3, 2], [6939, 1, 5], [6962, 6, 5], [6992, 2, 7], [6995, 5, 3], [6998, 7, 2], [6999, 3, 5], [7018, 7, 9], [7021, 1, 8], [7041, 7, 0], [7054, 1, 8], [7062, 3, 8], [7070, 9, 8], [7076, 1, 4], [7078, 1, 7], [7086, 9, 2], [7088, 3, 5], [7090, 9, 8], [7156, 9, 5], [7177, 9, 7], [7188, 1, 7], [7195, 5, 3], [7208, 1, 4], [7210, 5, 8], [7224, 9, 4], [7226, 1, 6], [7228, 9, 4], [7256, 6, 5], [7262, 3, 2], [7270, 7, 2], [7276, 3, 8], [7290, 4, 9], [7296, 7, 0], [7302, 6, 5], [7307, 0, 2], [7308, 8, 3], [7319, 7, 2], [7324, 5, 8], [7332, 3, 8], [7334, 4, 7], [7335, 5, 8], [7355, 2, 8], [7368, 9, 4], [7370, 7, 4], [7380, 4, 7], [7392, 3, 8], [7398, 1, 2], [7404, 6, 8], [7421, 4, 9], [7434, 5, 8], [7450, 9, 8], [7462, 7, 5], [7476, 4, 9], [7477, 5, 3], [7480, 3, 5], [7503, 1, 2], [7506, 0, 2], [7507, 6, 0], [7549, 9, 7], [7585, 1, 4], [7602, 3, 8], [7610, 1, 5], [7624, 8, 2], [7628, 3, 2], [7630, 9, 4], [7635, 5, 3], [7662, 6, 5], [7665, 1, 8], [7666, 1, 8], [7683, 3, 9], [7687, 1, 4], [7701, 7, 8], [7718, 1, 7], [7728, 3, 9], [7736, 5, 8], [7751, 9, 7], [7752, 1, 2], [7755, 7, 2], [7764, 0, 6], [7768, 0, 5], [7782, 7, 9], [7808, 7, 2], [7840, 9, 4], [7841, 7, 4], [7862, 9, 4], [7890, 1, 2], [7894, 7, 2], [7898, 5, 8], [7922, 9, 8], [7937, 9, 4], [7945, 4, 6], [7955, 9, 8], [7956, 1, 2], [7972, 9, 4], [7976, 7, 2], [7982, 3, 5], [8006, 4, 9], [8014, 9, 0], [8034, 7, 9], [8046, 7, 8], [8050, 5, 6], [8058, 1, 8], [8086, 7, 3], [8101, 1, 4], [8105, 1, 4], [8138, 5, 8], [8154, 1, 5], [8250, 5, 3], [8258, 4, 7], [8331, 7, 9], [8384, 3, 8], [8394, 2, 8], [8422, 4, 9], [8430, 0, 6], [8441, 3, 2], [8445, 3, 8], [8452, 3, 2], [8464, 3, 8], [8468, 3, 2], [8470, 4, 9], [8484, 4, 9], [8518, 9, 8], [8535, 6, 5], [8537, 1, 5], [8538, 7, 2], [8539, 7, 9], [8543, 9, 8], [8560, 3, 0], [8573, 4, 8], [8577, 7, 9], [8595, 7, 8], [8622, 9, 5], [8630, 1, 4], [8648, 1, 7], [8649, 6, 0], [8651, 7, 2], [8653, 3, 5], [8676, 9, 7], [8776, 3, 8], [8783, 7, 2], [8787, 1, 8], [8802, 6, 5], [8803, 3, 5], [8812, 2, 3], [8822, 8, 3], [8832, 7, 3], [8871, 1, 5], [8874, 5, 3], [8892, 8, 3], [8915, 3, 8], [8961, 7, 9], [9075, 7, 9], [9088, 9, 7], [9128, 9, 8], [9139, 9, 4], [9283, 2, 4], [9286, 0, 8], [9294, 0, 8], [9303, 5, 8], [9309, 0, 8], [9314, 0, 9], [9322, 5, 3], [9343, 3, 8], [9344, 5, 9], [9358, 3, 5], [9368, 3, 5], [9380, 3, 8], [9384, 3, 5], [9386, 9, 4], [9399, 3, 8], [9400, 3, 5], [9401, 9, 4], [9402, 3, 8], [9403, 3, 8], [9411, 3, 5], [9436, 8, 3], [9446, 9, 5], [9447, 2, 8], [9473, 3, 5], [9516, 1, 7], [9532, 7, 9], [9544, 9, 8], [9641, 7, 2], [9647, 9, 4], [9653, 9, 0], [9657, 1, 4], [9701, 6, 5], [9718, 1, 8], [9719, 5, 9], [9720, 0, 2], [9722, 1, 4], [9726, 3, 5], [9731, 6, 5], [9734, 1, 2], [9747, 3, 5], [9753, 9, 4], [9757, 3, 2], [9763, 1, 8], [9766, 1, 4], [9815, 8, 3], [9915, 7, 4], [9934, 5, 0], [9939, 7, 9], [9941, 1, 4], [9942, 7, 9], [9948, 7, 9], [9992, 7, 9], [9999, 9, 8]]\n"
     ]
    }
   ],
   "source": [
    "print( \"Accurracy= \",1- (len(indexes)/ len(data.test_y)), \"number of errors= \", len(indexes))\n",
    "print(indexes)"
   ]
  },
  {
   "cell_type": "code",
   "execution_count": 464,
   "metadata": {},
   "outputs": [
    {
     "name": "stdout",
     "output_type": "stream",
     "text": [
      "classified as:  9\n",
      "true label: 4\n"
     ]
    },
    {
     "data": {
      "image/png": "[encoded data removed]",
      "text/plain": [
       "<Figure size 432x288 with 1 Axes>"
      ]
     },
     "metadata": {
      "needs_background": "light"
     },
     "output_type": "display_data"
    }
   ],
   "source": [
    "# knowing the indices at which the model was wrong i can now view those \n",
    "print(\"classified as: \", model.classify(data.test_x[14]))\n",
    "view_digit(data.test_x[14,:], data.test_y[14])\n",
    "# This could be classified as a 9 becuase it has the straight line of a 9 and the top part is not connected like a 9 but close"
   ]
  },
  {
   "cell_type": "code",
   "execution_count": 466,
   "metadata": {},
   "outputs": [
    {
     "name": "stdout",
     "output_type": "stream",
     "text": [
      "classified as:  8\n",
      "true label: 3\n"
     ]
    },
    {
     "data": {
      "image/png": "[encoded data removed]",
      "text/plain": [
       "<Figure size 432x288 with 1 Axes>"
      ]
     },
     "metadata": {
      "needs_background": "light"
     },
     "output_type": "display_data"
    }
   ],
   "source": [
    "print(\"classified as: \", model.classify(data.test_x[500]))\n",
    "view_digit(data.test_x[500,:], data.test_y[500])\n",
    "# This could be an 8 as it looks very much like an 8 with only small parts not being connected "
   ]
  },
  {
   "cell_type": "markdown",
   "metadata": {},
   "source": [
    "**Part D**: Now using the entire training dataset and best value of `k` found from previous analysis, plot test accuracy vs number of prototypes for reasonable values of p (more than 1000). What are the trade-offs you are making when using prototypes instead of all the training examples?"
   ]
  },
  {
   "cell_type": "code",
   "execution_count": 298,
   "metadata": {},
   "outputs": [
    {
     "name": "stdout",
     "output_type": "stream",
     "text": [
      "[86, 93, 91, 97, 96, 97, 98, 98]\n"
     ]
    },
    {
     "data": {
      "image/png": "[encoded data removed]",
      "text/plain": [
       "<Figure size 432x288 with 1 Axes>"
      ]
     },
     "metadata": {
      "needs_background": "light"
     },
     "output_type": "display_data"
    }
   ],
   "source": [
    "number_of_prototypes = [1000,2500,5000,7500,10000,15000,25000,49000]\n",
    "accuracy  = []\n",
    "for x in number_of_prototypes:\n",
    "    model= Knearest(data.train_x, data.train_y, 3, x)\n",
    "    correct_classifications=0\n",
    "    for k in range(100):\n",
    "        classification = model.classify(data.test_x[k])\n",
    "        if classification == data.test_y[k]:\n",
    "            correct_classifications +=1\n",
    "    accuracy.append(correct_classifications)\n",
    "\n",
    "print(accuracy)\n",
    "fig=plt.figure()\n",
    "ax=fig.add_axes([0,0,1,1])\n",
    "ax.plot(number_of_prototypes, accuracy)\n",
    "ax.set_title(\"Accuracy by number of K neighbors\")\n",
    "ax.set_xlabel(\"Number of Prototypes\")\n",
    "ax.set_ylabel(\"Accuracy out of 100 test cases\")\n",
    "\n",
    "plt.show()"
   ]
  },
  {
   "cell_type": "markdown",
   "metadata": {},
   "source": [
    "### Perceptron - 10 points\n",
    "***\n",
    "Consider the IRIS dataset discussed in lecture. We have created a binary classification problem to determine whether a given flower is a setosa or not. To create this, we pre-processed the labels to create a label vector where setosa’s label is unchanged (i.e. its label is 1), but both versicolor and virginica are now labeled as -1. The data contains two out of the four attributes, petal width and petal length. This training data and the modified labels can be loaded using `IrisM` class. We are going to use this dataset for training a Perceptron classifier in subsequent problems. \n",
    "<br>\n",
    "\n",
    "![Samples of Iris Flowers](wide_iris.png \"Iris Dataset\")\n",
    "\n",
    "\n",
    "<br>"
   ]
  },
  {
   "cell_type": "code",
   "execution_count": 333,
   "metadata": {
    "ExecuteTime": {
     "end_time": "2018-08-31T22:13:40.515103Z",
     "start_time": "2018-08-31T22:13:40.505050Z"
    }
   },
   "outputs": [],
   "source": [
    "class IrisM:\n",
    "    \"\"\"\n",
    "    Class to store modified iris data for Perceptron Training\n",
    "    \"\"\"\n",
    "    \n",
    "    def __init__(self):\n",
    "        from sklearn import datasets\n",
    "        \n",
    "        iris = datasets.load_iris()\n",
    "        \n",
    "        # only taking first two features\n",
    "        X = iris.data[:, :2]\n",
    "        y = iris.target[:]\n",
    "        \n",
    "        # only considering whether it is setosa or not\n",
    "        y[iris.target != 0] = -1\n",
    "        y[iris.target == 0] = 1\n",
    "        \n",
    "        mask = np.random.choice(a = [False, True], size = 150, p = (0.66, 1 - 0.66))\n",
    "        \n",
    "        self.train_x, self.train_y = X[mask], y[mask]\n",
    "        self.test_x, self.test_y = X[~mask], y[~mask]\n",
    "        "
   ]
  },
  {
   "cell_type": "code",
   "execution_count": 334,
   "metadata": {},
   "outputs": [],
   "source": [
    "iris = IrisM()"
   ]
  },
  {
   "cell_type": "markdown",
   "metadata": {},
   "source": [
    "The class below implements Perceptron classifier in Python on modified IRIS data. The `Peceptron` class implements a Perceptron classifier on a training set of n examples, each of which is  d dimensional vector. The labels for the examples are -1 or 1. This is a simple preceptron classifier seen in class where the linear separator passes through the origin i.e has offset parameter = 0. Your tasks are as following:\n",
    "1. Implement `train` function which trains a Perceptron classifier on a training set. The function should return $\\theta$, the final classification vector and the number of updates performed\n",
    "1. Implement `predict` function which takes an example as input and returns the predicted label\n",
    "1. Implement `margin` function which returns geometric margin of the classifier"
   ]
  },
  {
   "cell_type": "code",
   "execution_count": 454,
   "metadata": {},
   "outputs": [],
   "source": [
    "class Perceptron:\n",
    "    \"\"\"\n",
    "    Perceptron Classifier\n",
    "    \"\"\"\n",
    "    \n",
    "    def __init__(self, X, y):\n",
    "        \"\"\"\n",
    "        Creates a Perceptron instance\n",
    "\n",
    "        :param X: Training data input\n",
    "        :param y: Training data output\n",
    "        \"\"\"\n",
    "        self._X = X\n",
    "        self._y = y\n",
    "        self._theta, self._iter = self.train(X, y)\n",
    "        \n",
    "    def train(self, X, y):\n",
    "        \"\"\"\n",
    "        Train perceptron and return final classification vector and\n",
    "        the number of updates performed respectively\n",
    "        \n",
    "        :param X: Training data input\n",
    "        :param y: Training data output\n",
    "        \"\"\"\n",
    "        errors_list =[]\n",
    "        weights = np.zeros(X.shape[1])\n",
    "        self._bias=0\n",
    "        for iteration in range(1000):\n",
    "            errors =0 # also = to the number of updates made \n",
    "            for x, target_val in zip(X,y):\n",
    "                predicted_val = np.dot(x, weights) + self._bias\n",
    "                if (predicted_val*target_val)<= 0 :\n",
    "                    weights += x*target_val\n",
    "                    self._bias += target_val\n",
    "                    errors += 1\n",
    "                    \n",
    "            errors_list.append(errors)\n",
    "            if errors == 0:\n",
    "                break\n",
    "        \n",
    "        return weights, errors_list\n",
    "            \n",
    "    def predict(self, X):\n",
    "        \"\"\"\n",
    "        Predicts the label for input\n",
    "        \n",
    "        :param X: Testing data input\n",
    "        \"\"\"\n",
    "        \n",
    "        return np.where( (np.dot(X,self._theta) + self._bias) <= 0.0, -1,1 )\n",
    "        \n",
    "    def margin(self):\n",
    "        \"\"\"\n",
    "        Returns geometric margin of the classifier\n",
    "        \"\"\"\n",
    "        \n",
    "        dist_list= []\n",
    "        for index in range(len(self._X)): \n",
    "            a = (self._bias/np.linalg.norm(self._theta))\n",
    "            b = np.dot(self._X[index], ( self._theta/(np.linalg.norm(self._theta)) ))\n",
    "            geo_margin =  self._y[index]*(a + b)\n",
    "            dist_list.append(geo_margin)\n",
    "        return(min(dist_list))\n",
    "\n",
    "\n",
    "\n",
    "        "
   ]
  },
  {
   "cell_type": "code",
   "execution_count": 455,
   "metadata": {
    "ExecuteTime": {
     "end_time": "2018-08-31T22:15:02.247890Z",
     "start_time": "2018-08-31T22:15:02.242423Z"
    }
   },
   "outputs": [
    {
     "name": "stderr",
     "output_type": "stream",
     "text": [
      "."
     ]
    },
    {
     "name": "stdout",
     "output_type": "stream",
     "text": [
      "0.7071067811865475\n"
     ]
    },
    {
     "name": "stderr",
     "output_type": "stream",
     "text": [
      "\n",
      "----------------------------------------------------------------------\n",
      "Ran 1 test in 0.001s\n",
      "\n",
      "OK\n"
     ]
    },
    {
     "data": {
      "text/plain": [
       "<unittest.runner.TextTestResult run=1 errors=0 failures=0>"
      ]
     },
     "execution_count": 455,
     "metadata": {},
     "output_type": "execute_result"
    }
   ],
   "source": [
    "import unittest\n",
    "\n",
    "class TestPerceptron(unittest.TestCase):\n",
    "    def setUp(self):\n",
    "        self.x = np.array([[1, 2], [4, 5], [2, 1], [5, 4]])\n",
    "        self.y = np.array([+1, +1, -1, -1])\n",
    "        self.perceptron = Perceptron(self.x, self.y)\n",
    "        self.queries = np.array([[1, 5], [0, 3], [6, 4], [2, 2]])\n",
    "\n",
    "    def test0(self):\n",
    "        \"\"\"\n",
    "        Test Perceptron\n",
    "        \"\"\"\n",
    "        print(self.perceptron.margin())\n",
    "        self.assertEqual(self.perceptron.predict(self.queries[0]),  1)\n",
    "        self.assertEqual(self.perceptron.predict(self.queries[1]),  1)\n",
    "        self.assertEqual(self.perceptron.predict(self.queries[2]), -1)\n",
    "        self.assertEqual(self.perceptron.predict(self.queries[3]), -1)\n",
    "        \n",
    "tests = TestPerceptron()\n",
    "tests_to_run = unittest.TestLoader().loadTestsFromModule(tests)\n",
    "unittest.TextTestRunner().run(tests_to_run)"
   ]
  },
  {
   "cell_type": "markdown",
   "metadata": {},
   "source": [
    "Now, we are going to using `IrisM` dataset to train a perceptron using `Perceptron` class."
   ]
  },
  {
   "cell_type": "markdown",
   "metadata": {},
   "source": [
    "**Part A:** From class we know that this data is linearly separable but the separator does not pass through the origin. Therefore you will need to follow the technique used in lecture to further pre-process the data to be linearly separable through the origin: for each data point, add an additional feature, set to a constant value (please use the value 1 for consistency). Then, use the `Perceptron` class to train a Perceptron classifier."
   ]
  },
  {
   "cell_type": "code",
   "execution_count": 456,
   "metadata": {},
   "outputs": [],
   "source": [
    "ones_train = np.ones(iris.train_x.shape[0])\n",
    "new_train_x= np.concatenate(( ones_train[:,None],iris.train_x), axis=1 )\n",
    "\n",
    "ones_test = np.ones(iris.test_x.shape[0])\n",
    "new_test_x= np.concatenate(( ones_test[:,None],iris.test_x), axis=1 )\n",
    "\n",
    "perceptron_model = Perceptron(new_train_x, iris.train_y)\n"
   ]
  },
  {
   "cell_type": "markdown",
   "metadata": {},
   "source": [
    "**Part B:** What is the angle between Perceptron's classification vector and vector $(1, 0)^T$? Report number of iterations to converge and the accuracy on test set."
   ]
  },
  {
   "cell_type": "code",
   "execution_count": 457,
   "metadata": {},
   "outputs": [
    {
     "name": "stdout",
     "output_type": "stream",
     "text": [
      "Angle between=  1.7531818217734378\n",
      "Number of iterations to converge=  214\n",
      "Accuracy=  0.9795918367346939\n"
     ]
    }
   ],
   "source": [
    "import math\n",
    "new_vector = np.transpose([1,1,0])\n",
    "dot_product= np.dot(perceptron_model._theta, new_vector)\n",
    "# print(dot_product)\n",
    "denominator = np.linalg.norm(perceptron_model._theta)*np.linalg.norm(new_vector)\n",
    "# print(denominator)\n",
    "angle = math.acos((dot_product)/(denominator))\n",
    "print(\"Angle between= \", angle)\n",
    "\n",
    "print('Number of iterations to converge= ',len(perceptron_model._iter)-1)\n",
    "\n",
    "accuracy =0\n",
    "for index in range(len(new_test_x)):\n",
    "    predicted_val = perceptron_model.predict(new_test_x[index])\n",
    "#     print('predicted_val',predicted_val, 'actual_val= ', iris.test_y[index])\n",
    "    if predicted_val == iris.test_y[index]:\n",
    "        accuracy+=1 \n",
    "total_accuracy = accuracy/ len(new_test_x)\n",
    "print(\"Accuracy= \",total_accuracy)"
   ]
  },
  {
   "cell_type": "markdown",
   "metadata": {},
   "source": [
    "**Part C:** Compute the geometric margins of your classifier with respect to the `IrisM` dataset used. Recall that the distance of a point from $x_t$ from the line $\\theta^T x = 0$ is $\\frac{\\theta^Tx_t}{||\\theta||}$"
   ]
  },
  {
   "cell_type": "code",
   "execution_count": 469,
   "metadata": {},
   "outputs": [
    {
     "name": "stdout",
     "output_type": "stream",
     "text": [
      "Min Margin is  0.007638131668754988\n"
     ]
    }
   ],
   "source": [
    "print(\"Min Margin is \",perceptron_model.margin())"
   ]
  },
  {
   "cell_type": "code",
   "execution_count": null,
   "metadata": {},
   "outputs": [],
   "source": []
  }
 ],
 "metadata": {
  "kernelspec": {
   "display_name": "Python 3",
   "language": "python",
   "name": "python3"
  },
  "language_info": {
   "codemirror_mode": {
    "name": "ipython",
    "version": 3
   },
   "file_extension": ".py",
   "mimetype": "text/x-python",
   "name": "python",
   "nbconvert_exporter": "python",
   "pygments_lexer": "ipython3",
   "version": "3.7.7"
  },
  "varInspector": {
   "cols": {
    "lenName": 16,
    "lenType": 16,
    "lenVar": 40
   },
   "kernels_config": {
    "python": {
     "delete_cmd_postfix": "",
     "delete_cmd_prefix": "del ",
     "library": "var_list.py",
     "varRefreshCmd": "print(var_dic_list())"
    },
    "r": {
     "delete_cmd_postfix": ") ",
     "delete_cmd_prefix": "rm(",
     "library": "var_list.r",
     "varRefreshCmd": "cat(var_dic_list()) "
    }
   },
   "types_to_exclude": [
    "module",
    "function",
    "builtin_function_or_method",
    "instance",
    "_Feature"
   ],
   "window_display": false
  }
 },
 "nbformat": 4,
 "nbformat_minor": 4
}
